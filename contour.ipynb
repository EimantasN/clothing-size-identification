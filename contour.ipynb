{
 "cells": [
  {
   "cell_type": "code",
   "execution_count": 1,
   "source": [
    "from __future__ import print_function\r\n",
    "import cv2 as cv\r\n",
    "import numpy as np\r\n",
    "import argparse\r\n",
    "import random as rng"
   ],
   "outputs": [],
   "metadata": {}
  },
  {
   "cell_type": "code",
   "execution_count": 2,
   "source": [
    "rng.seed(12345)"
   ],
   "outputs": [],
   "metadata": {}
  },
  {
   "cell_type": "code",
   "execution_count": 3,
   "source": [
    "def thresh_callback(val):\r\n",
    "    threshold = val\r\n",
    "    # Detect edges using Canny\r\n",
    "    canny_output = cv.Canny(src_gray, threshold, threshold * 2)\r\n",
    "    # Find contours\r\n",
    "    _, contours, hierarchy = cv.findContours(canny_output, cv.RETR_TREE, cv.CHAIN_APPROX_SIMPLE)\r\n",
    "    # Draw contours\r\n",
    "    drawing = np.zeros((canny_output.shape[0], canny_output.shape[1], 3), dtype=np.uint8)\r\n",
    "    for i in range(len(contours)):\r\n",
    "        color = (rng.randint(0,256), rng.randint(0,256), rng.randint(0,256))\r\n",
    "        cv.drawContours(drawing, contours, i, color, 2, cv.LINE_8, hierarchy, 0)\r\n",
    "    # Show in a window\r\n",
    "    cv.imshow('Contours', drawing)"
   ],
   "outputs": [],
   "metadata": {}
  },
  {
   "cell_type": "code",
   "execution_count": 4,
   "source": [
    "# Load source image\r\n",
    "inputFile = \"C:\\\\Users\\\\Eimantas\\\\Desktop\\\\Drabuziai\\\\foto 09_15\\\\foto 09_15\\\\DSC_2701.JPG\"\r\n",
    "\r\n",
    "src = cv.imread(inputFile)\r\n",
    "if src is None:\r\n",
    "    print('Could not open or find the image:', inputFile)\r\n",
    "    exit(0)\r\n",
    "# Convert image to gray and blur it\r\n",
    "src_gray = cv.cvtColor(src, cv.COLOR_BGR2GRAY)\r\n",
    "src_gray = cv.blur(src_gray, (3,3))\r\n",
    "# Create Window\r\n",
    "source_window = 'Source'\r\n",
    "cv.namedWindow(source_window)\r\n",
    "cv.imshow(source_window, src)\r\n",
    "max_thresh = 255\r\n",
    "thresh = 100 # initial threshold\r\n",
    "cv.createTrackbar('Canny Thresh:', source_window, thresh, max_thresh, thresh_callback)\r\n",
    "thresh_callback(thresh)"
   ],
   "outputs": [],
   "metadata": {}
  },
  {
   "cell_type": "code",
   "execution_count": null,
   "source": [],
   "outputs": [],
   "metadata": {}
  }
 ],
 "metadata": {
  "orig_nbformat": 4,
  "language_info": {
   "name": "python",
   "version": "3.6.12",
   "mimetype": "text/x-python",
   "codemirror_mode": {
    "name": "ipython",
    "version": 3
   },
   "pygments_lexer": "ipython3",
   "nbconvert_exporter": "python",
   "file_extension": ".py"
  },
  "kernelspec": {
   "name": "python3",
   "display_name": "Python 3.6.12 64-bit ('tensorflow_env': conda)"
  },
  "interpreter": {
   "hash": "1126d36035e88ce2636dae16355f4b8463753d43d1d0aaebf1488e5422f8685d"
  }
 },
 "nbformat": 4,
 "nbformat_minor": 2
}