{
 "cells": [
  {
   "cell_type": "code",
   "execution_count": 1,
   "id": "73079e64",
   "metadata": {
    "scrolled": true
   },
   "outputs": [],
   "source": [
    "#!git clone https://github.com/milesial/Pytorch-UNet.git\n",
    "# Fix for cuda init error\n",
    "#!pip install torch==1.8.0+cu111 torchvision==0.9.0+cu111 torchaudio==0.8.0 -f https://download.pytorch.org/whl/torch_stable.html"
   ]
  },
  {
   "cell_type": "code",
   "execution_count": 2,
   "id": "538243f9",
   "metadata": {
    "scrolled": true
   },
   "outputs": [],
   "source": [
    "import argparse\n",
    "import logging\n",
    "import sys\n",
    "from pathlib import Path\n",
    "from datetime import datetime\n",
    "\n",
    "import torch\n",
    "import torch.nn as nn\n",
    "import torch.nn.functional as F\n",
    "import wandb\n",
    "from torch import optim\n",
    "from torch.utils.data import DataLoader, random_split\n",
    "from tqdm import tqdm\n",
    "\n",
    "from utils.clothing_dataset_threshold import BasicDataset, ClothingDataset\n",
    "from utils.dice_score import dice_loss\n",
    "from utils.evaluate import evaluate\n",
    "from unet import UNet\n",
    "import gc\n",
    "import matplotlib.pyplot as plt\n",
    "from datetime import datetime"
   ]
  },
  {
   "cell_type": "code",
   "execution_count": 3,
   "id": "053fd727",
   "metadata": {
    "scrolled": true
   },
   "outputs": [
    {
     "name": "stdout",
     "output_type": "stream",
     "text": [
      "True\n"
     ]
    },
    {
     "data": {
      "text/plain": [
       "device(type='cuda')"
      ]
     },
     "execution_count": 3,
     "metadata": {},
     "output_type": "execute_result"
    }
   ],
   "source": [
    "import torch.cuda\n",
    "print(torch.cuda.is_available())\n",
    "\n",
    "device = torch.device(\"cuda\" if torch.cuda.is_available() else \"cpu\")\n",
    "device"
   ]
  },
  {
   "cell_type": "markdown",
   "id": "e6a8f64e",
   "metadata": {},
   "source": [
    "# Setup wandb"
   ]
  },
  {
   "cell_type": "code",
   "execution_count": 4,
   "id": "c13a57f4",
   "metadata": {
    "scrolled": true
   },
   "outputs": [
    {
     "name": "stderr",
     "output_type": "stream",
     "text": [
      "\u001b[34m\u001b[1mwandb\u001b[0m: Currently logged in as: \u001b[33mendev\u001b[0m (use `wandb login --relogin` to force relogin)\n"
     ]
    },
    {
     "data": {
      "text/html": [
       "\n",
       "                    Syncing run <strong><a href=\"https://wandb.ai/endev/unet/runs/rjryfdv8\" target=\"_blank\">amber-wind-116</a></strong> to <a href=\"https://wandb.ai/endev/unet\" target=\"_blank\">Weights & Biases</a> (<a href=\"https://docs.wandb.com/integrations/jupyter.html\" target=\"_blank\">docs</a>).<br/>\n",
       "\n",
       "                "
      ],
      "text/plain": [
       "<IPython.core.display.HTML object>"
      ]
     },
     "metadata": {},
     "output_type": "display_data"
    },
    {
     "data": {
      "text/html": [
       "<button onClick=\"this.nextSibling.style.display='block';this.style.display='none';\">Display W&B run</button><iframe src=\"https://wandb.ai/endev/unet/runs/rjryfdv8?jupyter=true\" style=\"border:none;width:100%;height:420px;display:none;\"></iframe>"
      ],
      "text/plain": [
       "<wandb.sdk.wandb_run.Run at 0x7fc033ea69e8>"
      ]
     },
     "execution_count": 4,
     "metadata": {},
     "output_type": "execute_result"
    }
   ],
   "source": [
    "wandb.init(project='unet', entity='endev')"
   ]
  },
  {
   "cell_type": "markdown",
   "id": "ed709626",
   "metadata": {},
   "source": [
    "# Dataset Path Variables"
   ]
  },
  {
   "cell_type": "code",
   "execution_count": 5,
   "id": "1f277d2d",
   "metadata": {
    "scrolled": true
   },
   "outputs": [],
   "source": [
    "root = \"./data/\"\n",
    "# root_dir = \"/data/datasets/clothing-size/\" # ssd takes time to move files and access them but faster\n",
    "root_dir = \"/data/clothing-size-identification/data\" # easy to move files and edit but very slow\n",
    "dir_checkpoint = Path('./training/')"
   ]
  },
  {
   "cell_type": "code",
   "execution_count": 6,
   "id": "5102ae2f",
   "metadata": {
    "scrolled": true
   },
   "outputs": [],
   "source": [
    "train_dir_img = Path(root_dir + '/train/imgs/')\n",
    "train_dir_mask = Path(root_dir + '/train/mask/')"
   ]
  },
  {
   "cell_type": "code",
   "execution_count": 7,
   "id": "603114bc",
   "metadata": {
    "scrolled": true
   },
   "outputs": [],
   "source": [
    "val_dir_img = Path(root_dir + '/val/imgs/')\n",
    "val_dir_mask = Path(root_dir + '/val/mask/')"
   ]
  },
  {
   "cell_type": "markdown",
   "id": "3cb3eb47",
   "metadata": {},
   "source": [
    "# Check data"
   ]
  },
  {
   "cell_type": "code",
   "execution_count": 8,
   "id": "886b63e6",
   "metadata": {},
   "outputs": [
    {
     "name": "stdout",
     "output_type": "stream",
     "text": [
      "\u001b[0m\u001b[01;32mDSC_2702.jpg\u001b[0m*  \u001b[01;32mDSC_2716.jpg\u001b[0m*  \u001b[01;32mIMG_9283.jpg\u001b[0m*  \u001b[01;32mIMG_9386.jpg\u001b[0m*  \u001b[01;32mIMG_9427.jpg\u001b[0m*\r\n",
      "\u001b[01;32mDSC_2704.jpg\u001b[0m*  \u001b[01;32mDSC_2721.jpg\u001b[0m*  \u001b[01;32mIMG_9315.jpg\u001b[0m*  \u001b[01;32mIMG_9388.jpg\u001b[0m*  \u001b[01;32mIMG_9429.jpg\u001b[0m*\r\n",
      "\u001b[01;32mDSC_2707.jpg\u001b[0m*  \u001b[01;32mDSC_2722.jpg\u001b[0m*  \u001b[01;32mIMG_9326.jpg\u001b[0m*  \u001b[01;32mIMG_9389.jpg\u001b[0m*  \u001b[01;32mIMG_9430.jpg\u001b[0m*\r\n",
      "\u001b[01;32mDSC_2708.jpg\u001b[0m*  \u001b[01;32mIMG_9263.jpg\u001b[0m*  \u001b[01;32mIMG_9329.jpg\u001b[0m*  \u001b[01;32mIMG_9398.jpg\u001b[0m*\r\n",
      "\u001b[01;32mDSC_2714.jpg\u001b[0m*  \u001b[01;32mIMG_9279.jpg\u001b[0m*  \u001b[01;32mIMG_9330.jpg\u001b[0m*  \u001b[01;32mIMG_9422.jpg\u001b[0m*\r\n"
     ]
    }
   ],
   "source": [
    "ls /data/clothing-size-identification/data/val/imgs/"
   ]
  },
  {
   "cell_type": "code",
   "execution_count": 9,
   "id": "e10af3f3",
   "metadata": {
    "scrolled": true
   },
   "outputs": [
    {
     "name": "stdout",
     "output_type": "stream",
     "text": [
      "\u001b[0m\u001b[01;32mDSC_2702.jpg\u001b[0m*  \u001b[01;32mDSC_2716.jpg\u001b[0m*  \u001b[01;32mIMG_9283.jpg\u001b[0m*  \u001b[01;32mIMG_9386.jpg\u001b[0m*  \u001b[01;32mIMG_9427.jpg\u001b[0m*\r\n",
      "\u001b[01;32mDSC_2704.jpg\u001b[0m*  \u001b[01;32mDSC_2721.jpg\u001b[0m*  \u001b[01;32mIMG_9315.jpg\u001b[0m*  \u001b[01;32mIMG_9388.jpg\u001b[0m*  \u001b[01;32mIMG_9429.jpg\u001b[0m*\r\n",
      "\u001b[01;32mDSC_2707.jpg\u001b[0m*  \u001b[01;32mDSC_2722.jpg\u001b[0m*  \u001b[01;32mIMG_9326.jpg\u001b[0m*  \u001b[01;32mIMG_9389.jpg\u001b[0m*  \u001b[01;32mIMG_9430.jpg\u001b[0m*\r\n",
      "\u001b[01;32mDSC_2708.jpg\u001b[0m*  \u001b[01;32mIMG_9263.jpg\u001b[0m*  \u001b[01;32mIMG_9329.jpg\u001b[0m*  \u001b[01;32mIMG_9398.jpg\u001b[0m*\r\n",
      "\u001b[01;32mDSC_2714.jpg\u001b[0m*  \u001b[01;32mIMG_9279.jpg\u001b[0m*  \u001b[01;32mIMG_9330.jpg\u001b[0m*  \u001b[01;32mIMG_9422.jpg\u001b[0m*\r\n"
     ]
    }
   ],
   "source": [
    "ls /data/datasets/clothing-size/val/imgs/"
   ]
  },
  {
   "cell_type": "code",
   "execution_count": 10,
   "id": "9611a227",
   "metadata": {
    "scrolled": true
   },
   "outputs": [
    {
     "name": "stdout",
     "output_type": "stream",
     "text": [
      "\u001b[0m\u001b[01;32mDSC_2702_mask.gif\u001b[0m*  \u001b[01;32mDSC_2721_mask.gif\u001b[0m*  \u001b[01;32mIMG_9326_mask.gif\u001b[0m*  \u001b[01;32mIMG_9398_mask.gif\u001b[0m*\r\n",
      "\u001b[01;32mDSC_2704_mask.gif\u001b[0m*  \u001b[01;32mDSC_2722_mask.gif\u001b[0m*  \u001b[01;32mIMG_9329_mask.gif\u001b[0m*  \u001b[01;32mIMG_9422_mask.gif\u001b[0m*\r\n",
      "\u001b[01;32mDSC_2707_mask.gif\u001b[0m*  \u001b[01;32mIMG_9263_mask.gif\u001b[0m*  \u001b[01;32mIMG_9330_mask.gif\u001b[0m*  \u001b[01;32mIMG_9427_mask.gif\u001b[0m*\r\n",
      "\u001b[01;32mDSC_2708_mask.gif\u001b[0m*  \u001b[01;32mIMG_9279_mask.gif\u001b[0m*  \u001b[01;32mIMG_9386_mask.gif\u001b[0m*  \u001b[01;32mIMG_9429_mask.gif\u001b[0m*\r\n",
      "\u001b[01;32mDSC_2714_mask.gif\u001b[0m*  \u001b[01;32mIMG_9283_mask.gif\u001b[0m*  \u001b[01;32mIMG_9388_mask.gif\u001b[0m*  \u001b[01;32mIMG_9430_mask.gif\u001b[0m*\r\n",
      "\u001b[01;32mDSC_2716_mask.gif\u001b[0m*  \u001b[01;32mIMG_9315_mask.gif\u001b[0m*  \u001b[01;32mIMG_9389_mask.gif\u001b[0m*\r\n"
     ]
    }
   ],
   "source": [
    "ls /data/datasets/clothing-size/val/mask/"
   ]
  },
  {
   "cell_type": "code",
   "execution_count": 11,
   "id": "bda86544",
   "metadata": {
    "scrolled": true
   },
   "outputs": [],
   "source": [
    "def train_net(net,\n",
    "              device,\n",
    "              epochs: int = 5,\n",
    "              batch_size: int = 1,\n",
    "              learning_rate: float = 0.001,\n",
    "              save_checkpoint: bool = True,\n",
    "              img_scale: float = 0.5,\n",
    "              amp: bool = False):\n",
    "    # 1. Create dataset\n",
    "    train_dataset = ClothingDataset(train_dir_img, train_dir_mask, img_scale)\n",
    "    val_dataset = ClothingDataset(val_dir_img, val_dir_mask, img_scale)\n",
    "\n",
    "    # 2. Totals\n",
    "    n_train = len(train_dataset)\n",
    "    n_val = len(val_dataset)\n",
    "\n",
    "    # 3. Create data loaders\n",
    "    loader_args = dict(batch_size=batch_size, num_workers=1, pin_memory=True)\n",
    "    train_loader = DataLoader(train_dataset, shuffle=True, **loader_args)\n",
    "    val_loader = DataLoader(val_dataset, shuffle=False, drop_last=True, **loader_args)\n",
    "\n",
    "    # (Initialize logging)\n",
    "    experiment = wandb.init(project='U-Net-mask', resume='allow', anonymous='must')\n",
    "    experiment.config.update(dict(epochs=epochs, \n",
    "                                  batch_size=batch_size, \n",
    "                                  learning_rate=learning_rate,\n",
    "                                  save_checkpoint=save_checkpoint, \n",
    "                                  img_scale=img_scale,\n",
    "                                  amp=amp))\n",
    "    logging.info(f'''Starting training:\n",
    "        Epochs:          {epochs}\n",
    "        Batch size:      {batch_size}\n",
    "        Learning rate:   {learning_rate}\n",
    "        Training size:   {n_train}\n",
    "        Validation size: {n_val}\n",
    "        Checkpoints:     {save_checkpoint}\n",
    "        Device:          {device.type}\n",
    "        Images scaling:  {img_scale}\n",
    "        Mixed Precision: {amp}\n",
    "    ''')\n",
    "\n",
    "    # 4. Set up the optimizer, the loss, the learning rate scheduler and the loss scaling for AMP\n",
    "    optimizer = optim.RMSprop(net.parameters(), lr=learning_rate, weight_decay=1e-8, momentum=0.9)\n",
    "    scheduler = optim.lr_scheduler.ReduceLROnPlateau(optimizer, 'max', patience=2)  # goal: maximize Dice score\n",
    "    grad_scaler = torch.cuda.amp.GradScaler(enabled=amp)\n",
    "    criterion = nn.CrossEntropyLoss()\n",
    "    global_step = 0\n",
    "\n",
    "    # 5. Begin training\n",
    "    for epoch in range(epochs):\n",
    "        net.train()\n",
    "        epoch_loss = 0\n",
    "        with tqdm(total=n_train, desc=f'Epoch {epoch + 1}/{epochs}', unit='img') as pbar:\n",
    "            for batch in train_loader:\n",
    "                images = batch['image']\n",
    "                true_masks = batch['mask']\n",
    "\n",
    "                assert images.shape[1] == net.n_channels, \\\n",
    "                    f'Network has been defined with {net.n_channels} input channels, ' \\\n",
    "                    f'but loaded images have {images.shape[1]} channels. Please check that ' \\\n",
    "                    'the images are loaded correctly.'\n",
    "\n",
    "                images = images.to(device=device, dtype=torch.float32)\n",
    "                true_masks = true_masks.to(device=device, dtype=torch.long)\n",
    "\n",
    "                with torch.cuda.amp.autocast(enabled=amp):\n",
    "                    masks_pred = net(images)\n",
    "                    loss = criterion(masks_pred, true_masks) \\\n",
    "                           + dice_loss(F.softmax(masks_pred, dim=1).float(),\n",
    "                                       F.one_hot(true_masks, net.n_classes).permute(0, 3, 1, 2).float(),\n",
    "                                       multiclass=True)\n",
    "\n",
    "                optimizer.zero_grad(set_to_none=True)\n",
    "                grad_scaler.scale(loss).backward()\n",
    "                grad_scaler.step(optimizer)\n",
    "                grad_scaler.update()\n",
    "\n",
    "                pbar.update(images.shape[0])\n",
    "                global_step += 1\n",
    "                epoch_loss += loss.item()\n",
    "                experiment.log({\n",
    "                    'train loss': loss.item(),\n",
    "                    'step': global_step,\n",
    "                    'epoch': epoch\n",
    "                })\n",
    "                \n",
    "                pbar.set_postfix(**{'loss (batch)': loss.item()})\n",
    "\n",
    "                # Evaluation round\n",
    "                if global_step % (n_train // (2 * batch_size)) == 0:\n",
    "                    histograms = {}\n",
    "                    for tag, value in net.named_parameters():\n",
    "                        tag = tag.replace('/', '.')\n",
    "                        histograms['Weights/' + tag] = wandb.Histogram(value.data.cpu())\n",
    "                        histograms['Gradients/' + tag] = wandb.Histogram(value.grad.data.cpu())\n",
    "\n",
    "                    val_score = evaluate(net, val_loader, device)\n",
    "                    scheduler.step(val_score)\n",
    "\n",
    "                    logging.info('Validation Dice score: {}'.format(val_score))\n",
    "                    experiment.log({\n",
    "                        'learning rate': optimizer.param_groups[0]['lr'],\n",
    "                        'validation Dice': val_score,\n",
    "                        'images': wandb.Image(images[0].cpu()),\n",
    "                        'masks': {\n",
    "                            'true': wandb.Image(true_masks[0].float().cpu()),\n",
    "                            'pred': wandb.Image(torch.softmax(masks_pred, dim=1)[0].float().cpu()),\n",
    "                        },\n",
    "                        'step': global_step,\n",
    "                        'epoch': epoch,\n",
    "                        **histograms\n",
    "                    })\n",
    "\n",
    "        if save_checkpoint:\n",
    "            Path(dir_checkpoint).mkdir(parents=True, exist_ok=True)\n",
    "            torch.save(net.state_dict(), str(dir_checkpoint / 'checkpoint_epoch{}_{}.pth'.format(epoch, datetime.now().strftime(\"%m_%d_%Y_%H_%M_%S\"))))\n",
    "            logging.info(f'Checkpoint {epoch + 1} saved at {datetime.now().strftime(\"%m_%d_%Y_%H_%M_%S\")}!')"
   ]
  },
  {
   "cell_type": "code",
   "execution_count": 12,
   "id": "47355468",
   "metadata": {
    "scrolled": true
   },
   "outputs": [],
   "source": [
    "# Number of epochs\n",
    "epochs = 10\n",
    "\n",
    "# Batch size\n",
    "batch_size=1\n",
    "\n",
    "# Learning rate\n",
    "lr = 0.0001\n",
    "\n",
    "# Load model from a .pth file\n",
    "load = False\n",
    "\n",
    "# Downscaling factor of the image\n",
    "scale = 1\n",
    "\n",
    "# Use mixed precision\n",
    "amp = False\n",
    "\n",
    "weight_decay=1e-8\n",
    "\n",
    "momentum=0.8\n",
    "\n",
    "config = wandb.config\n",
    "config.epochs = epochs\n",
    "config.batch_size = batch_size\n",
    "config.lr = lr\n",
    "config.load = load\n",
    "config.scale = scale\n",
    "config.amp = amp\n",
    "config.weight_decay = weight_decay\n",
    "config.momentum = momentum\n",
    "\n",
    "config.model = \"Unet-mask-pretrained\""
   ]
  },
  {
   "cell_type": "code",
   "execution_count": 13,
   "id": "9b969b19",
   "metadata": {
    "scrolled": true
   },
   "outputs": [
    {
     "name": "stderr",
     "output_type": "stream",
     "text": [
      "INFO: Using device cuda\n"
     ]
    }
   ],
   "source": [
    "logging.basicConfig(level=logging.INFO, format='%(levelname)s: %(message)s')\n",
    "device = torch.device('cuda' if torch.cuda.is_available() else 'cpu')\n",
    "logging.info(f'Using device {device}')"
   ]
  },
  {
   "cell_type": "code",
   "execution_count": 14,
   "id": "83d3f23b",
   "metadata": {
    "scrolled": false
   },
   "outputs": [
    {
     "name": "stderr",
     "output_type": "stream",
     "text": [
      "Using cache found in /root/.cache/torch/hub/milesial_Pytorch-UNet_master\n"
     ]
    },
    {
     "data": {
      "text/plain": [
       "UNet(\n",
       "  (inc): DoubleConv(\n",
       "    (double_conv): Sequential(\n",
       "      (0): Conv2d(3, 64, kernel_size=(3, 3), stride=(1, 1), padding=(1, 1))\n",
       "      (1): BatchNorm2d(64, eps=1e-05, momentum=0.1, affine=True, track_running_stats=True)\n",
       "      (2): ReLU(inplace=True)\n",
       "      (3): Conv2d(64, 64, kernel_size=(3, 3), stride=(1, 1), padding=(1, 1))\n",
       "      (4): BatchNorm2d(64, eps=1e-05, momentum=0.1, affine=True, track_running_stats=True)\n",
       "      (5): ReLU(inplace=True)\n",
       "    )\n",
       "  )\n",
       "  (down1): Down(\n",
       "    (maxpool_conv): Sequential(\n",
       "      (0): MaxPool2d(kernel_size=2, stride=2, padding=0, dilation=1, ceil_mode=False)\n",
       "      (1): DoubleConv(\n",
       "        (double_conv): Sequential(\n",
       "          (0): Conv2d(64, 128, kernel_size=(3, 3), stride=(1, 1), padding=(1, 1))\n",
       "          (1): BatchNorm2d(128, eps=1e-05, momentum=0.1, affine=True, track_running_stats=True)\n",
       "          (2): ReLU(inplace=True)\n",
       "          (3): Conv2d(128, 128, kernel_size=(3, 3), stride=(1, 1), padding=(1, 1))\n",
       "          (4): BatchNorm2d(128, eps=1e-05, momentum=0.1, affine=True, track_running_stats=True)\n",
       "          (5): ReLU(inplace=True)\n",
       "        )\n",
       "      )\n",
       "    )\n",
       "  )\n",
       "  (down2): Down(\n",
       "    (maxpool_conv): Sequential(\n",
       "      (0): MaxPool2d(kernel_size=2, stride=2, padding=0, dilation=1, ceil_mode=False)\n",
       "      (1): DoubleConv(\n",
       "        (double_conv): Sequential(\n",
       "          (0): Conv2d(128, 256, kernel_size=(3, 3), stride=(1, 1), padding=(1, 1))\n",
       "          (1): BatchNorm2d(256, eps=1e-05, momentum=0.1, affine=True, track_running_stats=True)\n",
       "          (2): ReLU(inplace=True)\n",
       "          (3): Conv2d(256, 256, kernel_size=(3, 3), stride=(1, 1), padding=(1, 1))\n",
       "          (4): BatchNorm2d(256, eps=1e-05, momentum=0.1, affine=True, track_running_stats=True)\n",
       "          (5): ReLU(inplace=True)\n",
       "        )\n",
       "      )\n",
       "    )\n",
       "  )\n",
       "  (down3): Down(\n",
       "    (maxpool_conv): Sequential(\n",
       "      (0): MaxPool2d(kernel_size=2, stride=2, padding=0, dilation=1, ceil_mode=False)\n",
       "      (1): DoubleConv(\n",
       "        (double_conv): Sequential(\n",
       "          (0): Conv2d(256, 512, kernel_size=(3, 3), stride=(1, 1), padding=(1, 1))\n",
       "          (1): BatchNorm2d(512, eps=1e-05, momentum=0.1, affine=True, track_running_stats=True)\n",
       "          (2): ReLU(inplace=True)\n",
       "          (3): Conv2d(512, 512, kernel_size=(3, 3), stride=(1, 1), padding=(1, 1))\n",
       "          (4): BatchNorm2d(512, eps=1e-05, momentum=0.1, affine=True, track_running_stats=True)\n",
       "          (5): ReLU(inplace=True)\n",
       "        )\n",
       "      )\n",
       "    )\n",
       "  )\n",
       "  (down4): Down(\n",
       "    (maxpool_conv): Sequential(\n",
       "      (0): MaxPool2d(kernel_size=2, stride=2, padding=0, dilation=1, ceil_mode=False)\n",
       "      (1): DoubleConv(\n",
       "        (double_conv): Sequential(\n",
       "          (0): Conv2d(512, 512, kernel_size=(3, 3), stride=(1, 1), padding=(1, 1))\n",
       "          (1): BatchNorm2d(512, eps=1e-05, momentum=0.1, affine=True, track_running_stats=True)\n",
       "          (2): ReLU(inplace=True)\n",
       "          (3): Conv2d(512, 512, kernel_size=(3, 3), stride=(1, 1), padding=(1, 1))\n",
       "          (4): BatchNorm2d(512, eps=1e-05, momentum=0.1, affine=True, track_running_stats=True)\n",
       "          (5): ReLU(inplace=True)\n",
       "        )\n",
       "      )\n",
       "    )\n",
       "  )\n",
       "  (up1): Up(\n",
       "    (up): Upsample(scale_factor=2.0, mode=bilinear)\n",
       "    (conv): DoubleConv(\n",
       "      (double_conv): Sequential(\n",
       "        (0): Conv2d(1024, 512, kernel_size=(3, 3), stride=(1, 1), padding=(1, 1))\n",
       "        (1): BatchNorm2d(512, eps=1e-05, momentum=0.1, affine=True, track_running_stats=True)\n",
       "        (2): ReLU(inplace=True)\n",
       "        (3): Conv2d(512, 256, kernel_size=(3, 3), stride=(1, 1), padding=(1, 1))\n",
       "        (4): BatchNorm2d(256, eps=1e-05, momentum=0.1, affine=True, track_running_stats=True)\n",
       "        (5): ReLU(inplace=True)\n",
       "      )\n",
       "    )\n",
       "  )\n",
       "  (up2): Up(\n",
       "    (up): Upsample(scale_factor=2.0, mode=bilinear)\n",
       "    (conv): DoubleConv(\n",
       "      (double_conv): Sequential(\n",
       "        (0): Conv2d(512, 256, kernel_size=(3, 3), stride=(1, 1), padding=(1, 1))\n",
       "        (1): BatchNorm2d(256, eps=1e-05, momentum=0.1, affine=True, track_running_stats=True)\n",
       "        (2): ReLU(inplace=True)\n",
       "        (3): Conv2d(256, 128, kernel_size=(3, 3), stride=(1, 1), padding=(1, 1))\n",
       "        (4): BatchNorm2d(128, eps=1e-05, momentum=0.1, affine=True, track_running_stats=True)\n",
       "        (5): ReLU(inplace=True)\n",
       "      )\n",
       "    )\n",
       "  )\n",
       "  (up3): Up(\n",
       "    (up): Upsample(scale_factor=2.0, mode=bilinear)\n",
       "    (conv): DoubleConv(\n",
       "      (double_conv): Sequential(\n",
       "        (0): Conv2d(256, 128, kernel_size=(3, 3), stride=(1, 1), padding=(1, 1))\n",
       "        (1): BatchNorm2d(128, eps=1e-05, momentum=0.1, affine=True, track_running_stats=True)\n",
       "        (2): ReLU(inplace=True)\n",
       "        (3): Conv2d(128, 64, kernel_size=(3, 3), stride=(1, 1), padding=(1, 1))\n",
       "        (4): BatchNorm2d(64, eps=1e-05, momentum=0.1, affine=True, track_running_stats=True)\n",
       "        (5): ReLU(inplace=True)\n",
       "      )\n",
       "    )\n",
       "  )\n",
       "  (up4): Up(\n",
       "    (up): Upsample(scale_factor=2.0, mode=bilinear)\n",
       "    (conv): DoubleConv(\n",
       "      (double_conv): Sequential(\n",
       "        (0): Conv2d(128, 64, kernel_size=(3, 3), stride=(1, 1), padding=(1, 1))\n",
       "        (1): BatchNorm2d(64, eps=1e-05, momentum=0.1, affine=True, track_running_stats=True)\n",
       "        (2): ReLU(inplace=True)\n",
       "        (3): Conv2d(64, 64, kernel_size=(3, 3), stride=(1, 1), padding=(1, 1))\n",
       "        (4): BatchNorm2d(64, eps=1e-05, momentum=0.1, affine=True, track_running_stats=True)\n",
       "        (5): ReLU(inplace=True)\n",
       "      )\n",
       "    )\n",
       "  )\n",
       "  (outc): OutConv(\n",
       "    (conv): Conv2d(64, 2, kernel_size=(1, 1), stride=(1, 1))\n",
       "  )\n",
       ")"
      ]
     },
     "execution_count": 14,
     "metadata": {},
     "output_type": "execute_result"
    }
   ],
   "source": [
    "net = torch.hub.load('milesial/Pytorch-UNet', 'unet_carvana', pretrained=True)\n",
    "net.to(device=\"cuda\")"
   ]
  },
  {
   "cell_type": "code",
   "execution_count": 15,
   "id": "94d0d1a8",
   "metadata": {
    "scrolled": true
   },
   "outputs": [
    {
     "name": "stderr",
     "output_type": "stream",
     "text": [
      "INFO: Network:\n",
      "\t3 input channels\n",
      "\t2 output channels (classes)\n",
      "\tBilinear upscaling\n"
     ]
    }
   ],
   "source": [
    "logging.info(f'Network:\\n'\n",
    "                 f'\\t{net.n_channels} input channels\\n'\n",
    "                 f'\\t{net.n_classes} output channels (classes)\\n'\n",
    "                 f'\\t{\"Bilinear\" if net.bilinear else \"Transposed conv\"} upscaling')"
   ]
  },
  {
   "cell_type": "code",
   "execution_count": 16,
   "id": "212d8bc1",
   "metadata": {
    "scrolled": true
   },
   "outputs": [],
   "source": [
    "gc.collect()\n",
    "torch.cuda.empty_cache()"
   ]
  },
  {
   "cell_type": "code",
   "execution_count": 17,
   "id": "7333523e",
   "metadata": {
    "scrolled": false
   },
   "outputs": [
    {
     "name": "stderr",
     "output_type": "stream",
     "text": [
      "INFO: Creating dataset with 97 examples\n",
      "INFO: Creating dataset with 23 examples\n"
     ]
    },
    {
     "data": {
      "text/html": [
       "Finishing last run (ID:rjryfdv8) before initializing another..."
      ],
      "text/plain": [
       "<IPython.core.display.HTML object>"
      ]
     },
     "metadata": {},
     "output_type": "display_data"
    },
    {
     "data": {
      "text/html": [
       "<br/>Waiting for W&B process to finish, PID 54283... <strong style=\"color:green\">(success).</strong>"
      ],
      "text/plain": [
       "<IPython.core.display.HTML object>"
      ]
     },
     "metadata": {},
     "output_type": "display_data"
    },
    {
     "data": {
      "application/vnd.jupyter.widget-view+json": {
       "model_id": "",
       "version_major": 2,
       "version_minor": 0
      },
      "text/plain": [
       "VBox(children=(Label(value=' 0.00MB of 0.00MB uploaded (0.00MB deduped)\\r'), FloatProgress(value=1.0, max=1.0)…"
      ]
     },
     "metadata": {},
     "output_type": "display_data"
    },
    {
     "data": {
      "text/html": [
       "<style>\n",
       "    table.wandb td:nth-child(1) { padding: 0 10px; text-align: right }\n",
       "    .wandb-row { display: flex; flex-direction: row; flex-wrap: wrap; width: 100% }\n",
       "    .wandb-col { display: flex; flex-direction: column; flex-basis: 100%; flex: 1; padding: 10px; }\n",
       "    </style>\n",
       "<div class=\"wandb-row\"><div class=\"wandb-col\">\n",
       "</div><div class=\"wandb-col\">\n",
       "</div></div>\n",
       "Synced 5 W&B file(s), 0 media file(s), 0 artifact file(s) and 0 other file(s)\n",
       "<br/>Synced <strong style=\"color:#cdcd00\">amber-wind-116</strong>: <a href=\"https://wandb.ai/endev/unet/runs/rjryfdv8\" target=\"_blank\">https://wandb.ai/endev/unet/runs/rjryfdv8</a><br/>\n",
       "Find logs at: <code>./wandb/run-20211016_142330-rjryfdv8/logs</code><br/>\n"
      ],
      "text/plain": [
       "<IPython.core.display.HTML object>"
      ]
     },
     "metadata": {},
     "output_type": "display_data"
    },
    {
     "data": {
      "text/html": [
       "Successfully finished last run (ID:rjryfdv8). Initializing new run:<br/>"
      ],
      "text/plain": [
       "<IPython.core.display.HTML object>"
      ]
     },
     "metadata": {},
     "output_type": "display_data"
    },
    {
     "data": {
      "text/html": [
       "\n",
       "                    Syncing run <strong><a href=\"https://wandb.ai/endev/U-Net-mask/runs/3b9lt1z1\" target=\"_blank\">dauntless-disco-48</a></strong> to <a href=\"https://wandb.ai/endev/U-Net-mask\" target=\"_blank\">Weights & Biases</a> (<a href=\"https://docs.wandb.com/integrations/jupyter.html\" target=\"_blank\">docs</a>).<br/>\n",
       "\n",
       "                "
      ],
      "text/plain": [
       "<IPython.core.display.HTML object>"
      ]
     },
     "metadata": {},
     "output_type": "display_data"
    },
    {
     "name": "stderr",
     "output_type": "stream",
     "text": [
      "INFO: Starting training:\n",
      "        Epochs:          10\n",
      "        Batch size:      1\n",
      "        Learning rate:   0.0001\n",
      "        Training size:   97\n",
      "        Validation size: 23\n",
      "        Checkpoints:     True\n",
      "        Device:          cuda\n",
      "        Images scaling:  1\n",
      "        Mixed Precision: False\n",
      "    \n",
      "Epoch 1/10:  49%|████▉     | 48/97 [00:09<00:09,  5.23img/s, loss (batch)=0.132] \n",
      "Validation round:   0%|          | 0/23 [00:00<?, ?batch/s]\u001b[A\n",
      "Validation round:   9%|▊         | 2/23 [00:00<00:01, 13.28batch/s]\u001b[A\n",
      "Validation round:  17%|█▋        | 4/23 [00:00<00:01, 15.93batch/s]\u001b[A\n",
      "Validation round:  26%|██▌       | 6/23 [00:00<00:01, 16.98batch/s]\u001b[A\n",
      "Validation round:  35%|███▍      | 8/23 [00:00<00:00, 17.53batch/s]\u001b[A\n",
      "Validation round:  43%|████▎     | 10/23 [00:00<00:00, 17.89batch/s]\u001b[A\n",
      "Validation round:  52%|█████▏    | 12/23 [00:00<00:00, 18.12batch/s]\u001b[A\n",
      "Validation round:  61%|██████    | 14/23 [00:00<00:00, 18.25batch/s]\u001b[A\n",
      "Validation round:  70%|██████▉   | 16/23 [00:00<00:00, 18.33batch/s]\u001b[A\n",
      "Validation round:  78%|███████▊  | 18/23 [00:01<00:00, 18.39batch/s]\u001b[A\n",
      "Validation round:  87%|████████▋ | 20/23 [00:01<00:00, 18.43batch/s]\u001b[A\n",
      "Validation round:  96%|█████████▌| 22/23 [00:01<00:00, 18.46batch/s]\u001b[A\n",
      "                                                                    \u001b[AINFO: Validation Dice score: 0.6481665372848511\n",
      "Epoch 1/10:  99%|█████████▉| 96/97 [00:20<00:00,  5.24img/s, loss (batch)=0.12]  \n",
      "Validation round:   0%|          | 0/23 [00:00<?, ?batch/s]\u001b[A\n",
      "Validation round:   9%|▊         | 2/23 [00:00<00:01, 13.94batch/s]\u001b[A\n",
      "Validation round:  17%|█▋        | 4/23 [00:00<00:01, 16.22batch/s]\u001b[A\n",
      "Validation round:  26%|██▌       | 6/23 [00:00<00:00, 17.22batch/s]\u001b[A\n",
      "Validation round:  35%|███▍      | 8/23 [00:00<00:00, 17.76batch/s]\u001b[A\n",
      "Validation round:  43%|████▎     | 10/23 [00:00<00:00, 18.03batch/s]\u001b[A\n",
      "Validation round:  52%|█████▏    | 12/23 [00:00<00:00, 18.21batch/s]\u001b[A\n",
      "Validation round:  61%|██████    | 14/23 [00:00<00:00, 18.31batch/s]\u001b[A\n",
      "Validation round:  70%|██████▉   | 16/23 [00:00<00:00, 18.38batch/s]\u001b[A\n",
      "Validation round:  78%|███████▊  | 18/23 [00:01<00:00, 18.42batch/s]\u001b[A\n",
      "Validation round:  87%|████████▋ | 20/23 [00:01<00:00, 18.46batch/s]\u001b[A\n",
      "Validation round:  96%|█████████▌| 22/23 [00:01<00:00, 18.45batch/s]\u001b[A\n",
      "                                                                    \u001b[AINFO: Validation Dice score: 0.6596565246582031\n",
      "Epoch 1/10: 100%|██████████| 97/97 [00:22<00:00,  4.35img/s, loss (batch)=2.71]\n",
      "INFO: Checkpoint 1 saved at 10_16_2021_14_24_03!\n",
      "Epoch 2/10:  48%|████▊     | 47/97 [00:09<00:09,  5.23img/s, loss (batch)=0.408] \n",
      "Validation round:   0%|          | 0/23 [00:00<?, ?batch/s]\u001b[A\n",
      "Validation round:   9%|▊         | 2/23 [00:00<00:01, 13.59batch/s]\u001b[A\n",
      "Validation round:  17%|█▋        | 4/23 [00:00<00:01, 15.98batch/s]\u001b[A\n",
      "Validation round:  26%|██▌       | 6/23 [00:00<00:00, 17.07batch/s]\u001b[A\n",
      "Validation round:  35%|███▍      | 8/23 [00:00<00:00, 17.59batch/s]\u001b[A\n",
      "Validation round:  43%|████▎     | 10/23 [00:00<00:00, 17.91batch/s]\u001b[A\n",
      "Validation round:  52%|█████▏    | 12/23 [00:00<00:00, 18.09batch/s]\u001b[A\n",
      "Validation round:  61%|██████    | 14/23 [00:00<00:00, 18.23batch/s]\u001b[A\n",
      "Validation round:  70%|██████▉   | 16/23 [00:00<00:00, 18.32batch/s]\u001b[A\n",
      "Validation round:  78%|███████▊  | 18/23 [00:01<00:00, 18.38batch/s]\u001b[A\n",
      "Validation round:  87%|████████▋ | 20/23 [00:01<00:00, 18.42batch/s]\u001b[A\n",
      "Validation round:  96%|█████████▌| 22/23 [00:01<00:00, 18.43batch/s]\u001b[A\n",
      "                                                                    \u001b[AINFO: Validation Dice score: 0.5306842923164368\n",
      "Epoch 2/10:  98%|█████████▊| 95/97 [00:19<00:00,  5.23img/s, loss (batch)=0.0465]\n",
      "Validation round:   0%|          | 0/23 [00:00<?, ?batch/s]\u001b[A\n",
      "Validation round:   9%|▊         | 2/23 [00:00<00:01, 13.86batch/s]\u001b[A\n",
      "Validation round:  17%|█▋        | 4/23 [00:00<00:01, 16.11batch/s]\u001b[A\n",
      "Validation round:  26%|██▌       | 6/23 [00:00<00:00, 17.03batch/s]\u001b[A\n",
      "Validation round:  35%|███▍      | 8/23 [00:00<00:00, 17.55batch/s]\u001b[A\n",
      "Validation round:  43%|████▎     | 10/23 [00:00<00:00, 17.89batch/s]\u001b[A\n",
      "Validation round:  52%|█████▏    | 12/23 [00:00<00:00, 18.06batch/s]\u001b[A\n",
      "Validation round:  61%|██████    | 14/23 [00:00<00:00, 18.20batch/s]\u001b[A\n",
      "Validation round:  70%|██████▉   | 16/23 [00:00<00:00, 18.29batch/s]\u001b[A\n",
      "Validation round:  78%|███████▊  | 18/23 [00:01<00:00, 18.32batch/s]\u001b[A\n",
      "Validation round:  87%|████████▋ | 20/23 [00:01<00:00, 18.40batch/s]\u001b[A\n",
      "Validation round:  96%|█████████▌| 22/23 [00:01<00:00, 18.41batch/s]\u001b[A\n",
      "                                                                    \u001b[AINFO: Validation Dice score: 0.6409822702407837\n",
      "Epoch 2/10: 100%|██████████| 97/97 [00:22<00:00,  4.38img/s, loss (batch)=0.0513]\n",
      "INFO: Checkpoint 2 saved at 10_16_2021_14_24_26!\n",
      "Epoch 3/10:  47%|████▋     | 46/97 [00:08<00:09,  5.22img/s, loss (batch)=0.0581]\n",
      "Validation round:   0%|          | 0/23 [00:00<?, ?batch/s]\u001b[A\n",
      "Validation round:   9%|▊         | 2/23 [00:00<00:01, 13.57batch/s]\u001b[A\n",
      "Validation round:  17%|█▋        | 4/23 [00:00<00:01, 16.01batch/s]\u001b[A\n",
      "Validation round:  26%|██▌       | 6/23 [00:00<00:00, 17.11batch/s]\u001b[A\n",
      "Validation round:  35%|███▍      | 8/23 [00:00<00:00, 17.65batch/s]\u001b[A\n",
      "Validation round:  43%|████▎     | 10/23 [00:00<00:00, 17.94batch/s]\u001b[A\n",
      "Validation round:  52%|█████▏    | 12/23 [00:00<00:00, 18.10batch/s]\u001b[A\n",
      "Validation round:  61%|██████    | 14/23 [00:00<00:00, 18.23batch/s]\u001b[A\n",
      "Validation round:  70%|██████▉   | 16/23 [00:00<00:00, 18.30batch/s]\u001b[A\n",
      "Validation round:  78%|███████▊  | 18/23 [00:01<00:00, 18.34batch/s]\u001b[A\n",
      "Validation round:  87%|████████▋ | 20/23 [00:01<00:00, 18.31batch/s]\u001b[A\n",
      "Validation round:  96%|█████████▌| 22/23 [00:01<00:00, 18.35batch/s]\u001b[A\n",
      "                                                                    \u001b[AINFO: Validation Dice score: 0.7200288772583008\n",
      "Epoch 3/10:  97%|█████████▋| 94/97 [00:19<00:00,  5.22img/s, loss (batch)=0.124] \n",
      "Validation round:   0%|          | 0/23 [00:00<?, ?batch/s]\u001b[A\n",
      "Validation round:   9%|▊         | 2/23 [00:00<00:01, 13.85batch/s]\u001b[A\n",
      "Validation round:  17%|█▋        | 4/23 [00:00<00:01, 16.13batch/s]\u001b[A\n",
      "Validation round:  26%|██▌       | 6/23 [00:00<00:00, 17.13batch/s]\u001b[A\n",
      "Validation round:  35%|███▍      | 8/23 [00:00<00:00, 17.61batch/s]\u001b[A\n",
      "Validation round:  43%|████▎     | 10/23 [00:00<00:00, 17.88batch/s]\u001b[A\n",
      "Validation round:  52%|█████▏    | 12/23 [00:00<00:00, 18.07batch/s]\u001b[A\n",
      "Validation round:  61%|██████    | 14/23 [00:00<00:00, 18.14batch/s]\u001b[A\n",
      "Validation round:  70%|██████▉   | 16/23 [00:00<00:00, 18.26batch/s]\u001b[A\n",
      "Validation round:  78%|███████▊  | 18/23 [00:01<00:00, 18.24batch/s]\u001b[A\n",
      "Validation round:  87%|████████▋ | 20/23 [00:01<00:00, 18.25batch/s]\u001b[A\n",
      "Validation round:  96%|█████████▌| 22/23 [00:01<00:00, 18.29batch/s]\u001b[A\n",
      "                                                                    \u001b[AINFO: Validation Dice score: 0.5977819561958313\n",
      "Epoch 3/10: 100%|██████████| 97/97 [00:22<00:00,  4.38img/s, loss (batch)=0.571] \n",
      "INFO: Checkpoint 3 saved at 10_16_2021_14_24_48!\n",
      "Epoch 4/10:  46%|████▋     | 45/97 [00:08<00:09,  5.21img/s, loss (batch)=0.129] \n",
      "Validation round:   0%|          | 0/23 [00:00<?, ?batch/s]\u001b[A\n",
      "Validation round:   9%|▊         | 2/23 [00:00<00:01, 13.31batch/s]\u001b[A\n",
      "Validation round:  17%|█▋        | 4/23 [00:00<00:01, 15.84batch/s]\u001b[A\n",
      "Validation round:  26%|██▌       | 6/23 [00:00<00:01, 16.92batch/s]\u001b[A\n",
      "Validation round:  35%|███▍      | 8/23 [00:00<00:00, 17.45batch/s]\u001b[A\n",
      "Validation round:  43%|████▎     | 10/23 [00:00<00:00, 17.80batch/s]\u001b[A\n",
      "Validation round:  52%|█████▏    | 12/23 [00:00<00:00, 17.99batch/s]\u001b[A\n",
      "Validation round:  61%|██████    | 14/23 [00:00<00:00, 18.12batch/s]\u001b[A\n",
      "Validation round:  70%|██████▉   | 16/23 [00:00<00:00, 18.22batch/s]\u001b[A\n",
      "Validation round:  78%|███████▊  | 18/23 [00:01<00:00, 18.31batch/s]\u001b[A\n",
      "Validation round:  87%|████████▋ | 20/23 [00:01<00:00, 18.38batch/s]\u001b[A\n",
      "Validation round:  96%|█████████▌| 22/23 [00:01<00:00, 18.40batch/s]\u001b[A\n",
      "                                                                    \u001b[AINFO: Validation Dice score: 0.6956210732460022\n",
      "Epoch 4/10:  96%|█████████▌| 93/97 [00:19<00:00,  5.20img/s, loss (batch)=0.074] \n",
      "Validation round:   0%|          | 0/23 [00:00<?, ?batch/s]\u001b[A\n"
     ]
    },
    {
     "name": "stderr",
     "output_type": "stream",
     "text": [
      "Validation round:   9%|▊         | 2/23 [00:00<00:01, 13.91batch/s]\u001b[A\n",
      "Validation round:  17%|█▋        | 4/23 [00:00<00:01, 16.09batch/s]\u001b[A\n",
      "Validation round:  26%|██▌       | 6/23 [00:00<00:00, 17.03batch/s]\u001b[A\n",
      "Validation round:  35%|███▍      | 8/23 [00:00<00:00, 17.56batch/s]\u001b[A\n",
      "Validation round:  43%|████▎     | 10/23 [00:00<00:00, 17.86batch/s]\u001b[A\n",
      "Validation round:  52%|█████▏    | 12/23 [00:00<00:00, 18.08batch/s]\u001b[A\n",
      "Validation round:  61%|██████    | 14/23 [00:00<00:00, 18.21batch/s]\u001b[A\n",
      "Validation round:  70%|██████▉   | 16/23 [00:00<00:00, 18.28batch/s]\u001b[A\n",
      "Validation round:  78%|███████▊  | 18/23 [00:01<00:00, 18.33batch/s]\u001b[A\n",
      "Validation round:  87%|████████▋ | 20/23 [00:01<00:00, 18.34batch/s]\u001b[A\n",
      "Validation round:  96%|█████████▌| 22/23 [00:01<00:00, 18.39batch/s]\u001b[A\n",
      "                                                                    \u001b[AINFO: Validation Dice score: 0.6667773127555847\n",
      "Epoch 4/10: 100%|██████████| 97/97 [00:22<00:00,  4.37img/s, loss (batch)=0.0353]\n",
      "INFO: Checkpoint 4 saved at 10_16_2021_14_25_11!\n",
      "Epoch 5/10:  45%|████▌     | 44/97 [00:08<00:10,  5.21img/s, loss (batch)=0.037] \n",
      "Validation round:   0%|          | 0/23 [00:00<?, ?batch/s]\u001b[A\n",
      "Validation round:   9%|▊         | 2/23 [00:00<00:01, 13.70batch/s]\u001b[A\n",
      "Validation round:  17%|█▋        | 4/23 [00:00<00:01, 15.98batch/s]\u001b[A\n",
      "Validation round:  26%|██▌       | 6/23 [00:00<00:01, 16.98batch/s]\u001b[A\n",
      "Validation round:  35%|███▍      | 8/23 [00:00<00:00, 17.51batch/s]\u001b[A\n",
      "Validation round:  43%|████▎     | 10/23 [00:00<00:00, 17.78batch/s]\u001b[A\n",
      "Validation round:  52%|█████▏    | 12/23 [00:00<00:00, 17.97batch/s]\u001b[A\n",
      "Validation round:  61%|██████    | 14/23 [00:00<00:00, 18.11batch/s]\u001b[A\n",
      "Validation round:  70%|██████▉   | 16/23 [00:00<00:00, 18.21batch/s]\u001b[A\n",
      "Validation round:  78%|███████▊  | 18/23 [00:01<00:00, 18.25batch/s]\u001b[A\n",
      "Validation round:  87%|████████▋ | 20/23 [00:01<00:00, 18.29batch/s]\u001b[A\n",
      "Validation round:  96%|█████████▌| 22/23 [00:01<00:00, 18.36batch/s]\u001b[A\n",
      "                                                                    \u001b[AINFO: Validation Dice score: 0.7078744173049927\n",
      "Epoch 5/10:  95%|█████████▍| 92/97 [00:19<00:00,  5.21img/s, loss (batch)=1.54]  \n",
      "Validation round:   0%|          | 0/23 [00:00<?, ?batch/s]\u001b[A\n",
      "Validation round:   9%|▊         | 2/23 [00:00<00:01, 13.87batch/s]\u001b[A\n",
      "Validation round:  17%|█▋        | 4/23 [00:00<00:01, 16.20batch/s]\u001b[A\n",
      "Validation round:  26%|██▌       | 6/23 [00:00<00:00, 17.18batch/s]\u001b[A\n",
      "Validation round:  35%|███▍      | 8/23 [00:00<00:00, 17.63batch/s]\u001b[A\n",
      "Validation round:  43%|████▎     | 10/23 [00:00<00:00, 17.94batch/s]\u001b[A\n",
      "Validation round:  52%|█████▏    | 12/23 [00:00<00:00, 18.05batch/s]\u001b[A\n",
      "Validation round:  61%|██████    | 14/23 [00:00<00:00, 18.15batch/s]\u001b[A\n",
      "Validation round:  70%|██████▉   | 16/23 [00:00<00:00, 18.26batch/s]\u001b[A\n",
      "Validation round:  78%|███████▊  | 18/23 [00:01<00:00, 18.30batch/s]\u001b[A\n",
      "Validation round:  87%|████████▋ | 20/23 [00:01<00:00, 18.29batch/s]\u001b[A\n",
      "Validation round:  96%|█████████▌| 22/23 [00:01<00:00, 18.37batch/s]\u001b[A\n",
      "                                                                    \u001b[AINFO: Validation Dice score: 0.8103408813476562\n",
      "Epoch 5/10: 100%|██████████| 97/97 [00:22<00:00,  4.36img/s, loss (batch)=0.0756]\n",
      "INFO: Checkpoint 5 saved at 10_16_2021_14_25_34!\n",
      "Epoch 6/10:  44%|████▍     | 43/97 [00:08<00:10,  5.20img/s, loss (batch)=0.165] \n",
      "Validation round:   0%|          | 0/23 [00:00<?, ?batch/s]\u001b[A\n",
      "Validation round:   9%|▊         | 2/23 [00:00<00:01, 13.73batch/s]\u001b[A\n",
      "Validation round:  17%|█▋        | 4/23 [00:00<00:01, 15.99batch/s]\u001b[A\n",
      "Validation round:  26%|██▌       | 6/23 [00:00<00:01, 16.94batch/s]\u001b[A\n",
      "Validation round:  35%|███▍      | 8/23 [00:00<00:00, 17.46batch/s]\u001b[A\n",
      "Validation round:  43%|████▎     | 10/23 [00:00<00:00, 17.73batch/s]\u001b[A\n",
      "Validation round:  52%|█████▏    | 12/23 [00:00<00:00, 17.95batch/s]\u001b[A\n",
      "Validation round:  61%|██████    | 14/23 [00:00<00:00, 18.07batch/s]\u001b[A\n",
      "Validation round:  70%|██████▉   | 16/23 [00:00<00:00, 18.19batch/s]\u001b[A\n",
      "Validation round:  78%|███████▊  | 18/23 [00:01<00:00, 18.26batch/s]\u001b[A\n",
      "Validation round:  87%|████████▋ | 20/23 [00:01<00:00, 18.29batch/s]\u001b[A\n",
      "Validation round:  96%|█████████▌| 22/23 [00:01<00:00, 18.31batch/s]\u001b[A\n",
      "                                                                    \u001b[AINFO: Validation Dice score: 0.7679147720336914\n",
      "Epoch 6/10:  94%|█████████▍| 91/97 [00:19<00:01,  5.19img/s, loss (batch)=0.0613]\n",
      "Validation round:   0%|          | 0/23 [00:00<?, ?batch/s]\u001b[A\n",
      "Validation round:   9%|▊         | 2/23 [00:00<00:01, 13.67batch/s]\u001b[A\n",
      "Validation round:  17%|█▋        | 4/23 [00:00<00:01, 16.03batch/s]\u001b[A\n",
      "Validation round:  26%|██▌       | 6/23 [00:00<00:01, 16.98batch/s]\u001b[A\n",
      "Validation round:  35%|███▍      | 8/23 [00:00<00:00, 17.49batch/s]\u001b[A\n",
      "Validation round:  43%|████▎     | 10/23 [00:00<00:00, 17.85batch/s]\u001b[A\n",
      "Validation round:  52%|█████▏    | 12/23 [00:00<00:00, 18.00batch/s]\u001b[A\n",
      "Validation round:  61%|██████    | 14/23 [00:00<00:00, 18.11batch/s]\u001b[A\n",
      "Validation round:  70%|██████▉   | 16/23 [00:00<00:00, 18.25batch/s]\u001b[A\n",
      "Validation round:  78%|███████▊  | 18/23 [00:01<00:00, 18.28batch/s]\u001b[A\n",
      "Validation round:  87%|████████▋ | 20/23 [00:01<00:00, 18.31batch/s]\u001b[A\n",
      "Validation round:  96%|█████████▌| 22/23 [00:01<00:00, 18.36batch/s]\u001b[A\n",
      "                                                                    \u001b[AINFO: Validation Dice score: 0.7611713409423828\n",
      "Epoch 6/10: 100%|██████████| 97/97 [00:22<00:00,  4.36img/s, loss (batch)=0.0842]\n",
      "INFO: Checkpoint 6 saved at 10_16_2021_14_25_57!\n",
      "Epoch 7/10:  43%|████▎     | 42/97 [00:08<00:10,  5.20img/s, loss (batch)=0.0539]\n",
      "Validation round:   0%|          | 0/23 [00:00<?, ?batch/s]\u001b[A\n",
      "Validation round:   9%|▊         | 2/23 [00:00<00:01, 13.52batch/s]\u001b[A\n",
      "Validation round:  17%|█▋        | 4/23 [00:00<00:01, 15.92batch/s]\u001b[A\n",
      "Validation round:  26%|██▌       | 6/23 [00:00<00:01, 16.92batch/s]\u001b[A\n",
      "Validation round:  35%|███▍      | 8/23 [00:00<00:00, 17.49batch/s]\u001b[A\n",
      "Validation round:  43%|████▎     | 10/23 [00:00<00:00, 17.80batch/s]\u001b[A\n",
      "Validation round:  52%|█████▏    | 12/23 [00:00<00:00, 18.01batch/s]\u001b[A\n",
      "Validation round:  61%|██████    | 14/23 [00:00<00:00, 18.12batch/s]\u001b[A\n",
      "Validation round:  70%|██████▉   | 16/23 [00:00<00:00, 18.23batch/s]\u001b[A\n",
      "Validation round:  78%|███████▊  | 18/23 [00:01<00:00, 18.31batch/s]\u001b[A\n",
      "Validation round:  87%|████████▋ | 20/23 [00:01<00:00, 18.33batch/s]\u001b[A\n",
      "Validation round:  96%|█████████▌| 22/23 [00:01<00:00, 18.35batch/s]\u001b[A\n",
      "                                                                    \u001b[AINFO: Validation Dice score: 0.7562747597694397\n",
      "Epoch 7/10:  93%|█████████▎| 90/97 [00:19<00:01,  5.21img/s, loss (batch)=0.254] \n",
      "Validation round:   0%|          | 0/23 [00:00<?, ?batch/s]\u001b[A\n",
      "Validation round:   9%|▊         | 2/23 [00:00<00:01, 13.94batch/s]\u001b[A\n",
      "Validation round:  17%|█▋        | 4/23 [00:00<00:01, 16.12batch/s]\u001b[A\n",
      "Validation round:  26%|██▌       | 6/23 [00:00<00:00, 17.08batch/s]\u001b[A\n",
      "Validation round:  35%|███▍      | 8/23 [00:00<00:00, 17.57batch/s]\u001b[A\n",
      "Validation round:  43%|████▎     | 10/23 [00:00<00:00, 17.83batch/s]\u001b[A\n",
      "Validation round:  52%|█████▏    | 12/23 [00:00<00:00, 18.00batch/s]\u001b[A\n",
      "Validation round:  61%|██████    | 14/23 [00:00<00:00, 18.14batch/s]\u001b[A\n",
      "Validation round:  70%|██████▉   | 16/23 [00:00<00:00, 18.25batch/s]\u001b[A\n",
      "Validation round:  78%|███████▊  | 18/23 [00:01<00:00, 18.32batch/s]\u001b[A\n",
      "Validation round:  87%|████████▋ | 20/23 [00:01<00:00, 18.35batch/s]\u001b[A\n",
      "Validation round:  96%|█████████▌| 22/23 [00:01<00:00, 18.38batch/s]\u001b[A\n",
      "                                                                    \u001b[AINFO: Validation Dice score: 0.733781099319458\n",
      "Epoch 7/10: 100%|██████████| 97/97 [00:22<00:00,  4.37img/s, loss (batch)=0.0329]\n",
      "INFO: Checkpoint 7 saved at 10_16_2021_14_26_20!\n",
      "Epoch 8/10:  42%|████▏     | 41/97 [00:07<00:10,  5.20img/s, loss (batch)=0.161] \n",
      "Validation round:   0%|          | 0/23 [00:00<?, ?batch/s]\u001b[A\n",
      "Validation round:   9%|▊         | 2/23 [00:00<00:01, 13.65batch/s]\u001b[A\n",
      "Validation round:  17%|█▋        | 4/23 [00:00<00:01, 16.04batch/s]\u001b[A\n",
      "Validation round:  26%|██▌       | 6/23 [00:00<00:01, 16.99batch/s]\u001b[A\n",
      "Validation round:  35%|███▍      | 8/23 [00:00<00:00, 17.50batch/s]\u001b[A\n"
     ]
    },
    {
     "name": "stderr",
     "output_type": "stream",
     "text": [
      "Validation round:  43%|████▎     | 10/23 [00:00<00:00, 17.79batch/s]\u001b[A\n",
      "Validation round:  52%|█████▏    | 12/23 [00:00<00:00, 17.98batch/s]\u001b[A\n",
      "Validation round:  61%|██████    | 14/23 [00:00<00:00, 18.07batch/s]\u001b[A\n",
      "Validation round:  70%|██████▉   | 16/23 [00:00<00:00, 18.14batch/s]\u001b[A\n",
      "Validation round:  78%|███████▊  | 18/23 [00:01<00:00, 18.19batch/s]\u001b[A\n",
      "Validation round:  87%|████████▋ | 20/23 [00:01<00:00, 18.25batch/s]\u001b[A\n",
      "Validation round:  96%|█████████▌| 22/23 [00:01<00:00, 18.27batch/s]\u001b[A\n",
      "                                                                    \u001b[AINFO: Validation Dice score: 0.7390815019607544\n",
      "Epoch 8/10:  92%|█████████▏| 89/97 [00:18<00:01,  5.20img/s, loss (batch)=0.0329]\n",
      "Validation round:   0%|          | 0/23 [00:00<?, ?batch/s]\u001b[A\n",
      "Validation round:   9%|▊         | 2/23 [00:00<00:01, 13.62batch/s]\u001b[A\n",
      "Validation round:  17%|█▋        | 4/23 [00:00<00:01, 15.93batch/s]\u001b[A\n",
      "Validation round:  26%|██▌       | 6/23 [00:00<00:01, 16.94batch/s]\u001b[A\n",
      "Validation round:  35%|███▍      | 8/23 [00:00<00:00, 17.46batch/s]\u001b[A\n",
      "Validation round:  43%|████▎     | 10/23 [00:00<00:00, 17.72batch/s]\u001b[A\n",
      "Validation round:  52%|█████▏    | 12/23 [00:00<00:00, 17.93batch/s]\u001b[A\n",
      "Validation round:  61%|██████    | 14/23 [00:00<00:00, 18.05batch/s]\u001b[A\n",
      "Validation round:  70%|██████▉   | 16/23 [00:00<00:00, 18.11batch/s]\u001b[A\n",
      "Validation round:  78%|███████▊  | 18/23 [00:01<00:00, 18.20batch/s]\u001b[A\n",
      "Validation round:  87%|████████▋ | 20/23 [00:01<00:00, 18.26batch/s]\u001b[A\n",
      "Validation round:  96%|█████████▌| 22/23 [00:01<00:00, 18.31batch/s]\u001b[A\n",
      "                                                                    \u001b[AINFO: Validation Dice score: 0.7373120784759521\n",
      "Epoch 8/10: 100%|██████████| 97/97 [00:22<00:00,  4.37img/s, loss (batch)=0.0269]\n",
      "INFO: Checkpoint 8 saved at 10_16_2021_14_26_43!\n",
      "Epoch 9/10:  41%|████      | 40/97 [00:07<00:10,  5.20img/s, loss (batch)=0.0453]\n",
      "Validation round:   0%|          | 0/23 [00:00<?, ?batch/s]\u001b[A\n",
      "Validation round:   9%|▊         | 2/23 [00:00<00:01, 13.71batch/s]\u001b[A\n",
      "Validation round:  17%|█▋        | 4/23 [00:00<00:01, 16.00batch/s]\u001b[A\n",
      "Validation round:  26%|██▌       | 6/23 [00:00<00:01, 17.00batch/s]\u001b[A\n",
      "Validation round:  35%|███▍      | 8/23 [00:00<00:00, 17.51batch/s]\u001b[A\n",
      "Validation round:  43%|████▎     | 10/23 [00:00<00:00, 17.84batch/s]\u001b[A\n",
      "Validation round:  52%|█████▏    | 12/23 [00:00<00:00, 18.05batch/s]\u001b[A\n",
      "Validation round:  61%|██████    | 14/23 [00:00<00:00, 18.12batch/s]\u001b[A\n",
      "Validation round:  70%|██████▉   | 16/23 [00:00<00:00, 18.18batch/s]\u001b[A\n",
      "Validation round:  78%|███████▊  | 18/23 [00:01<00:00, 18.20batch/s]\u001b[A\n",
      "Validation round:  87%|████████▋ | 20/23 [00:01<00:00, 18.22batch/s]\u001b[A\n",
      "Validation round:  96%|█████████▌| 22/23 [00:01<00:00, 18.29batch/s]\u001b[A\n",
      "                                                                    \u001b[AINFO: Validation Dice score: 0.7306285500526428\n",
      "Epoch 9/10:  91%|█████████ | 88/97 [00:18<00:01,  5.20img/s, loss (batch)=0.0423]\n",
      "Validation round:   0%|          | 0/23 [00:00<?, ?batch/s]\u001b[A\n",
      "Validation round:   9%|▊         | 2/23 [00:00<00:01, 13.59batch/s]\u001b[A\n",
      "Validation round:  17%|█▋        | 4/23 [00:00<00:01, 16.02batch/s]\u001b[A\n",
      "Validation round:  26%|██▌       | 6/23 [00:00<00:01, 16.97batch/s]\u001b[A\n",
      "Validation round:  35%|███▍      | 8/23 [00:00<00:00, 17.55batch/s]\u001b[A\n",
      "Validation round:  43%|████▎     | 10/23 [00:00<00:00, 17.79batch/s]\u001b[A\n",
      "Validation round:  52%|█████▏    | 12/23 [00:00<00:00, 18.02batch/s]\u001b[A\n",
      "Validation round:  61%|██████    | 14/23 [00:00<00:00, 18.15batch/s]\u001b[A\n",
      "Validation round:  70%|██████▉   | 16/23 [00:00<00:00, 18.20batch/s]\u001b[A\n",
      "Validation round:  78%|███████▊  | 18/23 [00:01<00:00, 18.24batch/s]\u001b[A\n",
      "Validation round:  87%|████████▋ | 20/23 [00:01<00:00, 18.30batch/s]\u001b[A\n",
      "Validation round:  96%|█████████▌| 22/23 [00:01<00:00, 18.31batch/s]\u001b[A\n",
      "                                                                    \u001b[AINFO: Validation Dice score: 0.7347840070724487\n",
      "Epoch 9/10: 100%|██████████| 97/97 [00:22<00:00,  4.36img/s, loss (batch)=0.156] \n",
      "INFO: Checkpoint 9 saved at 10_16_2021_14_27_06!\n",
      "Epoch 10/10:  40%|████      | 39/97 [00:07<00:11,  5.19img/s, loss (batch)=0.232] \n",
      "Validation round:   0%|          | 0/23 [00:00<?, ?batch/s]\u001b[A\n",
      "Validation round:   9%|▊         | 2/23 [00:00<00:01, 13.43batch/s]\u001b[A\n",
      "Validation round:  17%|█▋        | 4/23 [00:00<00:01, 15.84batch/s]\u001b[A\n",
      "Validation round:  26%|██▌       | 6/23 [00:00<00:01, 16.90batch/s]\u001b[A\n",
      "Validation round:  35%|███▍      | 8/23 [00:00<00:00, 17.44batch/s]\u001b[A\n",
      "Validation round:  43%|████▎     | 10/23 [00:00<00:00, 17.73batch/s]\u001b[A\n",
      "Validation round:  52%|█████▏    | 12/23 [00:00<00:00, 17.93batch/s]\u001b[A\n",
      "Validation round:  61%|██████    | 14/23 [00:00<00:00, 18.08batch/s]\u001b[A\n",
      "Validation round:  70%|██████▉   | 16/23 [00:00<00:00, 18.17batch/s]\u001b[A\n",
      "Validation round:  78%|███████▊  | 18/23 [00:01<00:00, 18.22batch/s]\u001b[A\n",
      "Validation round:  87%|████████▋ | 20/23 [00:01<00:00, 18.24batch/s]\u001b[A\n",
      "Validation round:  96%|█████████▌| 22/23 [00:01<00:00, 18.23batch/s]\u001b[A\n",
      "                                                                    \u001b[AINFO: Validation Dice score: 0.6997206211090088\n",
      "Epoch 10/10:  90%|████████▉ | 87/97 [00:18<00:01,  5.18img/s, loss (batch)=0.11]  \n",
      "Validation round:   0%|          | 0/23 [00:00<?, ?batch/s]\u001b[A\n",
      "Validation round:   9%|▊         | 2/23 [00:00<00:01, 13.66batch/s]\u001b[A\n",
      "Validation round:  17%|█▋        | 4/23 [00:00<00:01, 16.06batch/s]\u001b[A\n",
      "Validation round:  26%|██▌       | 6/23 [00:00<00:00, 17.05batch/s]\u001b[A\n",
      "Validation round:  35%|███▍      | 8/23 [00:00<00:00, 17.62batch/s]\u001b[A\n",
      "Validation round:  43%|████▎     | 10/23 [00:00<00:00, 17.89batch/s]\u001b[A\n",
      "Validation round:  52%|█████▏    | 12/23 [00:00<00:00, 18.07batch/s]\u001b[A\n",
      "Validation round:  61%|██████    | 14/23 [00:00<00:00, 18.15batch/s]\u001b[A\n",
      "Validation round:  70%|██████▉   | 16/23 [00:00<00:00, 18.21batch/s]\u001b[A\n",
      "Validation round:  78%|███████▊  | 18/23 [00:01<00:00, 18.25batch/s]\u001b[A\n",
      "Validation round:  87%|████████▋ | 20/23 [00:01<00:00, 18.32batch/s]\u001b[A\n",
      "Validation round:  96%|█████████▌| 22/23 [00:01<00:00, 18.32batch/s]\u001b[A\n",
      "                                                                    \u001b[AINFO: Validation Dice score: 0.7298672199249268\n",
      "Epoch 10/10: 100%|██████████| 97/97 [00:22<00:00,  4.34img/s, loss (batch)=0.0728]\n",
      "INFO: Checkpoint 10 saved at 10_16_2021_14_27_29!\n"
     ]
    }
   ],
   "source": [
    "try:\n",
    "    train_net(net=net,\n",
    "              epochs=epochs,\n",
    "              batch_size=batch_size,\n",
    "              learning_rate=lr,\n",
    "              device=device,\n",
    "              img_scale=scale,\n",
    "              amp=amp)\n",
    "except KeyboardInterrupt:\n",
    "    torch.save(net.state_dict(), 'INTERRUPTED.pth')\n",
    "    logging.info('Saved interrupt')\n",
    "    sys.exit(0)"
   ]
  },
  {
   "cell_type": "code",
   "execution_count": null,
   "id": "302d8706",
   "metadata": {
    "scrolled": true
   },
   "outputs": [],
   "source": []
  }
 ],
 "metadata": {
  "kernelspec": {
   "display_name": "Python 3",
   "language": "python",
   "name": "python3"
  },
  "language_info": {
   "codemirror_mode": {
    "name": "ipython",
    "version": 3
   },
   "file_extension": ".py",
   "mimetype": "text/x-python",
   "name": "python",
   "nbconvert_exporter": "python",
   "pygments_lexer": "ipython3",
   "version": "3.6.9"
  }
 },
 "nbformat": 4,
 "nbformat_minor": 5
}
