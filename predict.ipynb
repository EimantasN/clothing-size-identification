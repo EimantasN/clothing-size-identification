{
 "cells": [
  {
   "cell_type": "code",
<<<<<<< HEAD
   "execution_count": 6,
=======
   "execution_count": 1,
>>>>>>> b8c75fd6ef362c36b3591424375414db9412662b
   "id": "1956a2c1",
   "metadata": {},
   "outputs": [],
   "source": [
    "import numpy as np\n",
    "import torch\n",
    "import torch.nn.functional as F\n",
    "from PIL import Image\n",
    "from torchvision import transforms\n",
    "import logging\n",
    "import matplotlib.pyplot as plt\n",
<<<<<<< HEAD
    "from utils.clothing_dataset import ClothingDataset\n",
    "from utils.clothing_dataset import BasicDataset\n",
=======
    "\n",
    "from utils.data_loading import BasicDataset\n",
>>>>>>> b8c75fd6ef362c36b3591424375414db9412662b
    "from unet import UNet\n",
    "from utils.utils import plot_img_and_mask"
   ]
  },
  {
   "cell_type": "code",
<<<<<<< HEAD
   "execution_count": 7,
   "id": "e938b308",
   "metadata": {},
   "outputs": [
    {
     "name": "stdout",
     "output_type": "stream",
     "text": [
      "total 2363620\r\n",
      "-rwxrwxrwx. 1 root root  69152127 Oct 14 05:07 \u001b[0m\u001b[01;32mcheckpoint_epoch0_10_14_2021_05_07_38.pth\u001b[0m*\r\n",
      "-rwxrwxrwx. 1 root root  69152084 Oct 14 06:00 \u001b[01;32mcheckpoint_epoch0_10_14_2021_06_00_49.pth\u001b[0m*\r\n",
      "-rwxrwxrwx. 1 1026 users 69152083 Oct 13 18:45 \u001b[01;32mcheckpoint_epoch1.pth\u001b[0m*\r\n",
      "-rwxrwxrwx. 1 root root  69152086 Oct 13 18:43 \u001b[01;32mcheckpoint_epoch10.pth\u001b[0m*\r\n",
      "-rwxrwxrwx. 1 root root  69152127 Oct 14 05:08 \u001b[01;32mcheckpoint_epoch1_10_14_2021_05_08_04.pth\u001b[0m*\r\n",
      "-rwxrwxrwx. 1 root root  69152084 Oct 14 06:01 \u001b[01;32mcheckpoint_epoch1_10_14_2021_06_01_12.pth\u001b[0m*\r\n",
      "-rwxrwxrwx. 1 1026 users 69152079 Oct 13 18:45 \u001b[01;32mcheckpoint_epoch2.pth\u001b[0m*\r\n",
      "-rwxrwxrwx. 1 root root  69152125 Oct 14 05:08 \u001b[01;32mcheckpoint_epoch2_10_14_2021_05_08_30.pth\u001b[0m*\r\n",
      "-rwxrwxrwx. 1 root root  69152080 Oct 14 06:01 \u001b[01;32mcheckpoint_epoch2_10_14_2021_06_01_34.pth\u001b[0m*\r\n",
      "-rwxrwxrwx. 1 1026 users 69152081 Oct 13 18:46 \u001b[01;32mcheckpoint_epoch3.pth\u001b[0m*\r\n",
      "-rwxrwxrwx. 1 root root  69152127 Oct 14 05:08 \u001b[01;32mcheckpoint_epoch3_10_14_2021_05_08_56.pth\u001b[0m*\r\n",
      "-rwxrwxrwx. 1 root root  69152084 Oct 14 06:01 \u001b[01;32mcheckpoint_epoch3_10_14_2021_06_01_57.pth\u001b[0m*\r\n",
      "-rwxrwxrwx. 1 1026 users 69152079 Oct 13 18:46 \u001b[01;32mcheckpoint_epoch4.pth\u001b[0m*\r\n",
      "-rwxrwxrwx. 1 root root  69152126 Oct 14 05:09 \u001b[01;32mcheckpoint_epoch4_10_14_2021_05_09_22.pth\u001b[0m*\r\n",
      "-rwxrwxrwx. 1 root root  69152086 Oct 14 06:02 \u001b[01;32mcheckpoint_epoch4_10_14_2021_06_02_20.pth\u001b[0m*\r\n",
      "-rwxrwxrwx. 1 1026 users 69152081 Oct 13 18:47 \u001b[01;32mcheckpoint_epoch5.pth\u001b[0m*\r\n",
      "-rwxrwxrwx. 1 root root  69152084 Oct 13 18:39 \u001b[01;32mcheckpoint_epoch6.pth\u001b[0m*\r\n",
      "-rwxrwxrwx. 1 root root  69152084 Oct 13 18:40 \u001b[01;32mcheckpoint_epoch7.pth\u001b[0m*\r\n",
      "-rwxrwxrwx. 1 root root  69152086 Oct 13 18:41 \u001b[01;32mcheckpoint_epoch8.pth\u001b[0m*\r\n",
      "-rwxrwxrwx. 1 root root  69152086 Oct 13 18:42 \u001b[01;32mcheckpoint_epoch9.pth\u001b[0m*\r\n",
      "-rwxrwxrwx. 1 root root  69152085 Oct 12 19:01 \u001b[01;32mcheckpoint_epoch_mask_0_2021_10_12_19_01_13.pth\u001b[0m*\r\n",
      "-rwxrwxrwx. 1 root root  69152009 Oct 12 19:13 \u001b[01;32mcheckpoint_epoch_mask_0_2021_10_12_19_13_58.pth\u001b[0m*\r\n",
      "-rwxrwxrwx. 1 1026 users 69152081 Oct 12 18:56 \u001b[01;32mcheckpoint_epoch_mask_1.pth\u001b[0m*\r\n",
      "-rwxrwxrwx. 1 root root  69152085 Oct 12 19:01 \u001b[01;32mcheckpoint_epoch_mask_1_2021_10_12_19_01_25.pth\u001b[0m*\r\n",
      "-rwxrwxrwx. 1 root root  69152077 Oct 12 19:14 \u001b[01;32mcheckpoint_epoch_mask_1_2021_10_12_19_14_10.pth\u001b[0m*\r\n",
      "-rwxrwxrwx. 1 1026 users 69152079 Oct 12 18:56 \u001b[01;32mcheckpoint_epoch_mask_2.pth\u001b[0m*\r\n",
      "-rwxrwxrwx. 1 root root  69152083 Oct 12 19:01 \u001b[01;32mcheckpoint_epoch_mask_2_2021_10_12_19_01_36.pth\u001b[0m*\r\n",
      "-rwxrwxrwx. 1 root root  69152011 Oct 12 19:14 \u001b[01;32mcheckpoint_epoch_mask_2_2021_10_12_19_14_22.pth\u001b[0m*\r\n",
      "-rwxrwxrwx. 1 1026 users 69152083 Oct 12 18:56 \u001b[01;32mcheckpoint_epoch_mask_3.pth\u001b[0m*\r\n",
      "-rwxrwxrwx. 1 root root  69152082 Oct 12 19:01 \u001b[01;32mcheckpoint_epoch_mask_3_2021_10_12_19_01_48.pth\u001b[0m*\r\n",
      "-rwxrwxrwx. 1 root root  69152011 Oct 12 19:14 \u001b[01;32mcheckpoint_epoch_mask_3_2021_10_12_19_14_33.pth\u001b[0m*\r\n",
      "-rwxrwxrwx. 1 1026 users 69152083 Oct 12 18:57 \u001b[01;32mcheckpoint_epoch_mask_4.pth\u001b[0m*\r\n",
      "-rwxrwxrwx. 1 root root  69152077 Oct 12 19:02 \u001b[01;32mcheckpoint_epoch_mask_4_2021_10_12_19_02_00.pth\u001b[0m*\r\n",
      "-rwxrwxrwx. 1 root root  69152079 Oct 12 19:14 \u001b[01;32mcheckpoint_epoch_mask_4_2021_10_12_19_14_45.pth\u001b[0m*\r\n",
      "-rwxrwxrwx. 1 1026 users 69152081 Oct 12 18:57 \u001b[01;32mcheckpoint_epoch_mask_5.pth\u001b[0m*\r\n"
     ]
    }
   ],
   "source": [
    "ls -l ./checkpoints"
   ]
  },
  {
   "cell_type": "code",
   "execution_count": 8,
=======
   "execution_count": 2,
>>>>>>> b8c75fd6ef362c36b3591424375414db9412662b
   "id": "549c122d",
   "metadata": {},
   "outputs": [
    {
     "data": {
      "text/plain": [
       "UNet(\n",
       "  (inc): DoubleConv(\n",
       "    (double_conv): Sequential(\n",
       "      (0): Conv2d(3, 64, kernel_size=(3, 3), stride=(1, 1), padding=(1, 1))\n",
       "      (1): BatchNorm2d(64, eps=1e-05, momentum=0.1, affine=True, track_running_stats=True)\n",
       "      (2): ReLU(inplace=True)\n",
       "      (3): Conv2d(64, 64, kernel_size=(3, 3), stride=(1, 1), padding=(1, 1))\n",
       "      (4): BatchNorm2d(64, eps=1e-05, momentum=0.1, affine=True, track_running_stats=True)\n",
       "      (5): ReLU(inplace=True)\n",
       "    )\n",
       "  )\n",
       "  (down1): Down(\n",
       "    (maxpool_conv): Sequential(\n",
       "      (0): MaxPool2d(kernel_size=2, stride=2, padding=0, dilation=1, ceil_mode=False)\n",
       "      (1): DoubleConv(\n",
       "        (double_conv): Sequential(\n",
       "          (0): Conv2d(64, 128, kernel_size=(3, 3), stride=(1, 1), padding=(1, 1))\n",
       "          (1): BatchNorm2d(128, eps=1e-05, momentum=0.1, affine=True, track_running_stats=True)\n",
       "          (2): ReLU(inplace=True)\n",
       "          (3): Conv2d(128, 128, kernel_size=(3, 3), stride=(1, 1), padding=(1, 1))\n",
       "          (4): BatchNorm2d(128, eps=1e-05, momentum=0.1, affine=True, track_running_stats=True)\n",
       "          (5): ReLU(inplace=True)\n",
       "        )\n",
       "      )\n",
       "    )\n",
       "  )\n",
       "  (down2): Down(\n",
       "    (maxpool_conv): Sequential(\n",
       "      (0): MaxPool2d(kernel_size=2, stride=2, padding=0, dilation=1, ceil_mode=False)\n",
       "      (1): DoubleConv(\n",
       "        (double_conv): Sequential(\n",
       "          (0): Conv2d(128, 256, kernel_size=(3, 3), stride=(1, 1), padding=(1, 1))\n",
       "          (1): BatchNorm2d(256, eps=1e-05, momentum=0.1, affine=True, track_running_stats=True)\n",
       "          (2): ReLU(inplace=True)\n",
       "          (3): Conv2d(256, 256, kernel_size=(3, 3), stride=(1, 1), padding=(1, 1))\n",
       "          (4): BatchNorm2d(256, eps=1e-05, momentum=0.1, affine=True, track_running_stats=True)\n",
       "          (5): ReLU(inplace=True)\n",
       "        )\n",
       "      )\n",
       "    )\n",
       "  )\n",
       "  (down3): Down(\n",
       "    (maxpool_conv): Sequential(\n",
       "      (0): MaxPool2d(kernel_size=2, stride=2, padding=0, dilation=1, ceil_mode=False)\n",
       "      (1): DoubleConv(\n",
       "        (double_conv): Sequential(\n",
       "          (0): Conv2d(256, 512, kernel_size=(3, 3), stride=(1, 1), padding=(1, 1))\n",
       "          (1): BatchNorm2d(512, eps=1e-05, momentum=0.1, affine=True, track_running_stats=True)\n",
       "          (2): ReLU(inplace=True)\n",
       "          (3): Conv2d(512, 512, kernel_size=(3, 3), stride=(1, 1), padding=(1, 1))\n",
       "          (4): BatchNorm2d(512, eps=1e-05, momentum=0.1, affine=True, track_running_stats=True)\n",
       "          (5): ReLU(inplace=True)\n",
       "        )\n",
       "      )\n",
       "    )\n",
       "  )\n",
       "  (down4): Down(\n",
       "    (maxpool_conv): Sequential(\n",
       "      (0): MaxPool2d(kernel_size=2, stride=2, padding=0, dilation=1, ceil_mode=False)\n",
       "      (1): DoubleConv(\n",
       "        (double_conv): Sequential(\n",
       "          (0): Conv2d(512, 512, kernel_size=(3, 3), stride=(1, 1), padding=(1, 1))\n",
       "          (1): BatchNorm2d(512, eps=1e-05, momentum=0.1, affine=True, track_running_stats=True)\n",
       "          (2): ReLU(inplace=True)\n",
       "          (3): Conv2d(512, 512, kernel_size=(3, 3), stride=(1, 1), padding=(1, 1))\n",
       "          (4): BatchNorm2d(512, eps=1e-05, momentum=0.1, affine=True, track_running_stats=True)\n",
       "          (5): ReLU(inplace=True)\n",
       "        )\n",
       "      )\n",
       "    )\n",
       "  )\n",
       "  (up1): Up(\n",
       "    (up): Upsample(scale_factor=2.0, mode=bilinear)\n",
       "    (conv): DoubleConv(\n",
       "      (double_conv): Sequential(\n",
       "        (0): Conv2d(1024, 512, kernel_size=(3, 3), stride=(1, 1), padding=(1, 1))\n",
       "        (1): BatchNorm2d(512, eps=1e-05, momentum=0.1, affine=True, track_running_stats=True)\n",
       "        (2): ReLU(inplace=True)\n",
       "        (3): Conv2d(512, 256, kernel_size=(3, 3), stride=(1, 1), padding=(1, 1))\n",
       "        (4): BatchNorm2d(256, eps=1e-05, momentum=0.1, affine=True, track_running_stats=True)\n",
       "        (5): ReLU(inplace=True)\n",
       "      )\n",
       "    )\n",
       "  )\n",
       "  (up2): Up(\n",
       "    (up): Upsample(scale_factor=2.0, mode=bilinear)\n",
       "    (conv): DoubleConv(\n",
       "      (double_conv): Sequential(\n",
       "        (0): Conv2d(512, 256, kernel_size=(3, 3), stride=(1, 1), padding=(1, 1))\n",
       "        (1): BatchNorm2d(256, eps=1e-05, momentum=0.1, affine=True, track_running_stats=True)\n",
       "        (2): ReLU(inplace=True)\n",
       "        (3): Conv2d(256, 128, kernel_size=(3, 3), stride=(1, 1), padding=(1, 1))\n",
       "        (4): BatchNorm2d(128, eps=1e-05, momentum=0.1, affine=True, track_running_stats=True)\n",
       "        (5): ReLU(inplace=True)\n",
       "      )\n",
       "    )\n",
       "  )\n",
       "  (up3): Up(\n",
       "    (up): Upsample(scale_factor=2.0, mode=bilinear)\n",
       "    (conv): DoubleConv(\n",
       "      (double_conv): Sequential(\n",
       "        (0): Conv2d(256, 128, kernel_size=(3, 3), stride=(1, 1), padding=(1, 1))\n",
       "        (1): BatchNorm2d(128, eps=1e-05, momentum=0.1, affine=True, track_running_stats=True)\n",
       "        (2): ReLU(inplace=True)\n",
       "        (3): Conv2d(128, 64, kernel_size=(3, 3), stride=(1, 1), padding=(1, 1))\n",
       "        (4): BatchNorm2d(64, eps=1e-05, momentum=0.1, affine=True, track_running_stats=True)\n",
       "        (5): ReLU(inplace=True)\n",
       "      )\n",
       "    )\n",
       "  )\n",
       "  (up4): Up(\n",
       "    (up): Upsample(scale_factor=2.0, mode=bilinear)\n",
       "    (conv): DoubleConv(\n",
       "      (double_conv): Sequential(\n",
       "        (0): Conv2d(128, 64, kernel_size=(3, 3), stride=(1, 1), padding=(1, 1))\n",
       "        (1): BatchNorm2d(64, eps=1e-05, momentum=0.1, affine=True, track_running_stats=True)\n",
       "        (2): ReLU(inplace=True)\n",
       "        (3): Conv2d(64, 64, kernel_size=(3, 3), stride=(1, 1), padding=(1, 1))\n",
       "        (4): BatchNorm2d(64, eps=1e-05, momentum=0.1, affine=True, track_running_stats=True)\n",
       "        (5): ReLU(inplace=True)\n",
       "      )\n",
       "    )\n",
       "  )\n",
       "  (outc): OutConv(\n",
       "    (conv): Conv2d(64, 2, kernel_size=(1, 1), stride=(1, 1))\n",
       "  )\n",
       ")"
      ]
     },
<<<<<<< HEAD
     "execution_count": 8,
=======
     "execution_count": 2,
>>>>>>> b8c75fd6ef362c36b3591424375414db9412662b
     "metadata": {},
     "output_type": "execute_result"
    }
   ],
   "source": [
    "model = UNet(n_channels=3, n_classes=2, bilinear=True)\n",
<<<<<<< HEAD
    "model.load_state_dict(torch.load(\"./checkpoints/checkpoint_epoch0_10_14_2021_05_07_38.pth\"))\n",
=======
    "model.load_state_dict(torch.load(\"./checkpoints/checkpoint_epoch5.pth\"))\n",
>>>>>>> b8c75fd6ef362c36b3591424375414db9412662b
    "model.eval()"
   ]
  },
  {
   "cell_type": "code",
<<<<<<< HEAD
   "execution_count": 9,
=======
   "execution_count": 3,
>>>>>>> b8c75fd6ef362c36b3591424375414db9412662b
   "id": "bca5f14b",
   "metadata": {},
   "outputs": [],
   "source": [
    "def predict_img(net,\n",
    "                full_img,\n",
    "                device,\n",
    "                scale_factor=1,\n",
    "                out_threshold=0.5):\n",
    "    net.eval()\n",
    "    img = torch.from_numpy(BasicDataset.preprocess(full_img, scale_factor, is_mask=False))\n",
    "    img = img.unsqueeze(0)\n",
    "    img = img.to(device=device, dtype=torch.float32)\n",
    "\n",
    "    with torch.no_grad():\n",
    "        output = net(img)\n",
    "\n",
    "        if net.n_classes > 1:\n",
    "            probs = F.softmax(output, dim=1)[0]\n",
    "        else:\n",
    "            probs = torch.sigmoid(output)[0]\n",
    "\n",
    "        tf = transforms.Compose([\n",
    "            transforms.ToPILImage(),\n",
    "            transforms.Resize((full_img.size[1], full_img.size[0])),\n",
    "            transforms.ToTensor()\n",
    "        ])\n",
    "\n",
    "        full_mask = tf(probs.cpu()).squeeze()\n",
    "\n",
    "    if net.n_classes == 1:\n",
    "        return (full_mask > out_threshold).numpy()\n",
    "    else:\n",
    "        return F.one_hot(full_mask.argmax(dim=0), net.n_classes).permute(2, 0, 1).numpy()"
   ]
  },
  {
   "cell_type": "code",
<<<<<<< HEAD
   "execution_count": 10,
=======
   "execution_count": 4,
>>>>>>> b8c75fd6ef362c36b3591424375414db9412662b
   "id": "93adadd3",
   "metadata": {},
   "outputs": [],
   "source": [
    "def get_output_filenames(args):\n",
    "    def _generate_name(fn):\n",
    "        split = os.path.splitext(fn)\n",
    "        return f'{split[0]}_OUT{split[1]}'\n",
    "\n",
    "    return args.output or list(map(_generate_name, args.input))"
   ]
  },
  {
   "cell_type": "code",
<<<<<<< HEAD
   "execution_count": 11,
=======
   "execution_count": 5,
>>>>>>> b8c75fd6ef362c36b3591424375414db9412662b
   "id": "0958e716",
   "metadata": {},
   "outputs": [],
   "source": [
    "def mask_to_image(mask: np.ndarray):\n",
    "    if mask.ndim == 2:\n",
    "        return Image.fromarray((mask * 255).astype(np.uint8))\n",
    "    elif mask.ndim == 3:\n",
    "        return Image.fromarray((np.argmax(mask, axis=0) * 255 / mask.shape[0]).astype(np.uint8))"
   ]
  },
  {
   "cell_type": "code",
<<<<<<< HEAD
   "execution_count": 19,
=======
   "execution_count": 6,
>>>>>>> b8c75fd6ef362c36b3591424375414db9412662b
   "id": "9d9d4516",
   "metadata": {},
   "outputs": [],
   "source": [
    "def get_predictions(input, output, model, scale, mask_threshold, no_save):\n",
    "    in_files = input\n",
    "    out_files = output\n",
    "\n",
    "    net = UNet(n_channels=3, n_classes=2)\n",
    "\n",
    "    device = torch.device('cuda' if torch.cuda.is_available() else 'cpu')\n",
    "    logging.info(f'Loading model {model}')\n",
    "    logging.info(f'Using device {device}')\n",
    "\n",
    "    net.to(device=device)\n",
    "    net.load_state_dict(torch.load(model, map_location=device))\n",
    "\n",
    "    logging.info('Model loaded!')\n",
    "\n",
    "    for i, filename in enumerate(in_files):\n",
    "        logging.info(f'\\nPredicting image {filename} ...')\n",
    "        img = Image.open(filename)\n",
    "\n",
    "        mask = predict_img(net=net,\n",
    "                           full_img=img,\n",
    "                           scale_factor=scale,\n",
    "                           out_threshold=mask_threshold,\n",
    "                           device=device)\n",
    "\n",
    "#         result_mask = mask_to_image(mask)\n",
    "#         imgplot = plt.imshow(result_mask)\n",
    "#         plt.show()\n",
    "        \n",
    "        if not no_save:\n",
    "            out_filename = out_files[i]\n",
    "            result = mask_to_image(mask)\n",
    "            imgplot = plt.imshow(result)\n",
    "            result.save(out_filename)\n",
    "            logging.info(f'Mask saved to {out_filename}')\n",
    "\n",
    "        if viz:\n",
    "            logging.info(f'Visualizing results for image {filename}, close to continue...')\n",
    "#             plot_img_and_mask(img, mask)"
   ]
  },
  {
   "cell_type": "code",
<<<<<<< HEAD
   "execution_count": 20,
=======
   "execution_count": 8,
>>>>>>> b8c75fd6ef362c36b3591424375414db9412662b
   "id": "4c2cb0f8",
   "metadata": {},
   "outputs": [
    {
     "data": {
<<<<<<< HEAD
      "image/png": "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\n",
=======
      "image/png": "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\n",
>>>>>>> b8c75fd6ef362c36b3591424375414db9412662b
      "text/plain": [
       "<Figure size 432x288 with 1 Axes>"
      ]
     },
     "metadata": {
      "needs_background": "light"
     },
     "output_type": "display_data"
    }
   ],
   "source": [
    "modelPath = \"./checkpoints/checkpoint_epoch5.pth\"\n",
    "input = [\"/data/datasets/clothing-size/train/imgs/IMG_9346.jpg\"]\n",
    "output = [\"./prediction.jpg\"]\n",
    "viz = True\n",
    "# Do not save the output masks\n",
    "no_save = False\n",
    "mask_hreshold =0.5\n",
<<<<<<< HEAD
    "scale = 1\n",
    "\n",
    "get_predictions(input, output, modelPath, scale, mask_hreshold, no_save)"
   ]
  },
  {
   "cell_type": "code",
   "execution_count": 15,
   "id": "5f355937",
   "metadata": {},
   "outputs": [
    {
     "data": {
      "image/png": "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\n",
      "text/plain": [
       "<Figure size 432x288 with 1 Axes>"
      ]
     },
     "metadata": {
      "needs_background": "light"
     },
     "output_type": "display_data"
    }
   ],
   "source": [
    "img_path = input[0]\n",
    "orig = Image.open(img_path)\n",
    "plt.imshow(orig)\n",
    "plt.show()"
   ]
  },
  {
   "cell_type": "code",
   "execution_count": null,
   "id": "2009cb3e",
   "metadata": {},
   "outputs": [],
   "source": []
=======
    "scale = 0.33\n",
    "\n",
    "get_predictions(input, output, modelPath, scale, mask_hreshold, no_save)"
   ]
>>>>>>> b8c75fd6ef362c36b3591424375414db9412662b
  }
 ],
 "metadata": {
  "kernelspec": {
   "display_name": "Python 3",
   "language": "python",
   "name": "python3"
  },
  "language_info": {
   "codemirror_mode": {
    "name": "ipython",
    "version": 3
   },
   "file_extension": ".py",
   "mimetype": "text/x-python",
   "name": "python",
   "nbconvert_exporter": "python",
   "pygments_lexer": "ipython3",
   "version": "3.6.9"
  }
 },
 "nbformat": 4,
 "nbformat_minor": 5
}
